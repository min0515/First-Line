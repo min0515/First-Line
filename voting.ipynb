{
  "nbformat": 4,
  "nbformat_minor": 0,
  "metadata": {
    "colab": {
      "provenance": []
    },
    "kernelspec": {
      "name": "python3",
      "display_name": "Python 3"
    },
    "language_info": {
      "name": "python"
    }
  },
  "cells": [
    {
      "cell_type": "code",
      "execution_count": null,
      "metadata": {
        "id": "SOKXHOjkmG5y"
      },
      "outputs": [],
      "source": [
        "import pandas as pd\n",
        "import os\n",
        "\n",
        "# Path to the folder containing the CSV files\n",
        "folder_path = './'\n",
        "\n",
        "# List to store the dataframes\n",
        "dataframes = []\n",
        "\n",
        "# Read each CSV file in the folder\n",
        "for file_name in os.listdir(folder_path):\n",
        "    if file_name.endswith('.csv'):\n",
        "        file_path = os.path.join(folder_path, file_name)\n",
        "        df = pd.read_csv(file_path)\n",
        "        dataframes.append(df)\n",
        "\n",
        "# Merge dataframes by filename and perform hard voting\n",
        "merged_df = dataframes[0][['filename']].copy()\n",
        "merged_df['labels'] = dataframes[0]['label'].apply(lambda x: [x])\n",
        "\n",
        "for df in dataframes[1:]:\n",
        "    merged_df['labels'] = merged_df['labels'] + df['label'].apply(lambda x: [x])\n",
        "\n",
        "# Apply majority voting\n",
        "merged_df['label'] = merged_df['labels'].apply(lambda x: max(set(x), key=x.count))\n",
        "\n",
        "# Drop the intermediate 'labels' list column\n",
        "merged_df.drop(columns=['labels'], inplace=True)\n",
        "\n",
        "# Save the result to a new CSV file\n",
        "output_file = os.path.join(folder_path, 'ensemble_submission.csv')\n",
        "merged_df.to_csv(output_file, index=False)\n",
        "\n",
        "print(f\"Combined submission saved to {output_file}\")\n"
      ]
    }
  ]
}